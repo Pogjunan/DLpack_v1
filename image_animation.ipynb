{
 "cells": [
  {
   "cell_type": "markdown",
   "id": "f7bb4336-7fc6-419c-8eae-c10e66b486b9",
   "metadata": {},
   "source": [
    "# image_Animation"
   ]
  },
  {
   "cell_type": "code",
   "execution_count": null,
   "id": "6fe8444e-b9fd-4696-a5be-d261e6940080",
   "metadata": {},
   "outputs": [],
   "source": [
    "import imageio\n",
    "import matplotlib.pyplot as plt\n",
    "import os\n",
    "from pathlib import Path\n",
    "\n",
    "# Image directory and output GIF name\n",
    "image_dir = Path(\"rs_m2_0_1\")\n",
    "output_gif = \"lp_0_predicted_2nd_trial.gif\"\n",
    "\n",
    "# Get a sorted list of image files based on the timestamp in the filename\n",
    "image_files = sorted(\n",
    "    image_dir.glob(\"*.png\"), key=lambda x: x\n",
    ")\n",
    "\n",
    "# Read images and create animation with 0.5 seconds duration per frame\n",
    "with imageio.get_writer(output_gif, mode=\"I\", duration=0.7) as writer:  # duration parameter added\n",
    "    for filename in image_files:\n",
    "        image = imageio.imread(filename)\n",
    "        writer.append_data(image)\n",
    "\n",
    "print(f\"Animation saved as {output_gif}\")"
   ]
  }
 ],
 "metadata": {
  "kernelspec": {
   "display_name": "Python (deep)",
   "language": "python",
   "name": "deep"
  },
  "language_info": {
   "codemirror_mode": {
    "name": "ipython",
    "version": 3
   },
   "file_extension": ".py",
   "mimetype": "text/x-python",
   "name": "python",
   "nbconvert_exporter": "python",
   "pygments_lexer": "ipython3",
   "version": "3.11.8"
  }
 },
 "nbformat": 4,
 "nbformat_minor": 5
}
