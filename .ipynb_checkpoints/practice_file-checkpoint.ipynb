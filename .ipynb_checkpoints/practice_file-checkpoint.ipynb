{
 "cells": [
  {
   "cell_type": "code",
   "execution_count": null,
   "id": "e5315aee-68d1-4290-bedb-8c043e31a258",
   "metadata": {},
   "outputs": [],
   "source": [
    "!ls"
   ]
  },
  {
   "cell_type": "code",
   "execution_count": 2,
   "id": "78e86989-15da-49a6-9de3-a3c2ebb9d5a7",
   "metadata": {},
   "outputs": [],
   "source": [
    "import dlpack_v1 as dl"
   ]
  },
  {
   "cell_type": "code",
   "execution_count": 3,
   "id": "648d1942-2932-4cad-af8e-1a283f2e456b",
   "metadata": {},
   "outputs": [
    {
     "name": "stdout",
     "output_type": "stream",
     "text": [
      "Animation saved as lp_4.gif\n"
     ]
    }
   ],
   "source": [
    "dl.image_animation('./??','lp_4.gif',duration=0.7)"
   ]
  },
  {
   "cell_type": "code",
   "execution_count": null,
   "id": "0feab92c-4658-4a14-bd9c-f95bc96d3738",
   "metadata": {},
   "outputs": [],
   "source": []
  }
 ],
 "metadata": {
  "kernelspec": {
   "display_name": "Python (deep)",
   "language": "python",
   "name": "deep"
  },
  "language_info": {
   "codemirror_mode": {
    "name": "ipython",
    "version": 3
   },
   "file_extension": ".py",
   "mimetype": "text/x-python",
   "name": "python",
   "nbconvert_exporter": "python",
   "pygments_lexer": "ipython3",
   "version": "3.11.8"
  }
 },
 "nbformat": 4,
 "nbformat_minor": 5
}
